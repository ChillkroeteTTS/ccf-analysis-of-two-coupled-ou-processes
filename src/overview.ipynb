{
 "cells": [
  {
   "cell_type": "code",
   "execution_count": 6,
   "metadata": {
    "pycharm": {
     "is_executing": true
    }
   },
   "outputs": [],
   "source": [
    "%matplotlib widget\n",
    "import os\n",
    "from main_multiple_runs import R, T, t, T_cycles, NoiseType\n",
    "from plotting.plotting import plot_with_percentiles\n",
    "from pathlib import Path\n",
    "from file_handling import load_ensemble\n",
    "import matplotlib.pyplot as plt\n",
    "\n",
    "fig_size = plt.rcParams[\"figure.figsize\"]\n",
    "fig_size[0] = 15\n",
    "fig_size[1] = 10\n",
    "plt.rcParams[\"figure.figsize\"] = fig_size\n",
    "\n",
    "results = load_ensemble(Path('../results/30_100_0'))"
   ]
  },
  {
   "cell_type": "markdown",
   "metadata": {},
   "source": [
    "# Noise Intensity\n",
    "By setting the "
   ]
  },
  {
   "cell_type": "markdown",
   "metadata": {},
   "source": [
    "# OU Sample\n",
    "A sample run from both Ornstein Uhlenbeck processes for debug purposes"
   ]
  },
  {
   "cell_type": "code",
   "execution_count": 7,
   "metadata": {},
   "outputs": [
    {
     "ename": "NameError",
     "evalue": "name 'plt_sample_from_ensemble' is not defined",
     "output_type": "error",
     "traceback": [
      "\u001b[0;31m--------------------------------------------------------------------------\u001b[0m",
      "\u001b[0;31mNameError\u001b[0m                                Traceback (most recent call last)",
      "\u001b[0;32m<ipython-input-7-4ea96cca49d6>\u001b[0m in \u001b[0;36m<module>\u001b[0;34m\u001b[0m\n\u001b[0;32m----> 1\u001b[0;31m \u001b[0mplt_sample_from_ensemble\u001b[0m\u001b[0;34m(\u001b[0m\u001b[0mt\u001b[0m\u001b[0;34m,\u001b[0m \u001b[0mround\u001b[0m\u001b[0;34m(\u001b[0m\u001b[0mR\u001b[0m \u001b[0;34m/\u001b[0m \u001b[0mT_cycles\u001b[0m\u001b[0;34m)\u001b[0m\u001b[0;34m,\u001b[0m \u001b[0mresults\u001b[0m\u001b[0;34m[\u001b[0m\u001b[0;36m0\u001b[0m\u001b[0;34m]\u001b[0m\u001b[0;34m[\u001b[0m\u001b[0;34m'p'\u001b[0m\u001b[0;34m]\u001b[0m\u001b[0;34m,\u001b[0m \u001b[0mresults\u001b[0m\u001b[0;34m[\u001b[0m\u001b[0;36m0\u001b[0m\u001b[0;34m]\u001b[0m\u001b[0;34m[\u001b[0m\u001b[0;34m'ensemble'\u001b[0m\u001b[0;34m]\u001b[0m\u001b[0;34m)\u001b[0m\u001b[0;34m\u001b[0m\u001b[0;34m\u001b[0m\u001b[0m\n\u001b[0m",
      "\u001b[0;31mNameError\u001b[0m: name 'plt_sample_from_ensemble' is not defined"
     ]
    }
   ],
   "source": [
    "plt_sample_from_ensemble(t, round(R / T_cycles), results[0]['p'], results[0]['ensemble'])"
   ]
  },
  {
   "cell_type": "markdown",
   "metadata": {},
   "source": [
    "# ACF\n",
    "Ensemble of autocorrelation functions for each parameter set where $\\tau_1 = \\tau_2$"
   ]
  },
  {
   "cell_type": "code",
   "execution_count": 3,
   "metadata": {},
   "outputs": [],
   "source": [
    "from plotting.plotting import plot_with_percentiles\n",
    "# calculation\n",
    "results_without_asymm_params = [res for res in results if res['p']['tau1'] == res['p']['tau2'] and res['p']['e'] == 0.4]\n",
    "lag = 100\n",
    "percentile_of_results = [[ensemble_percentiles(res['ensemble'], lambda df: acf(df['ou1'], lag), res['p']),\n",
    "                      ensemble_percentiles(res['ensemble'], lambda df: acf(df['ou2'], lag), res['p'])\n",
    "                      ]\n",
    "                     for res in sorted(results_without_asymm_params, key=lambda r: r['p']['tau1'])]\n",
    "\n"
   ]
  },
  {
   "cell_type": "code",
   "execution_count": 4,
   "metadata": {},
   "outputs": [
    {
     "data": {
      "application/vnd.jupyter.widget-view+json": {
       "model_id": "f9763b8d5e9f4fe5a6f9fdee3fbb3b17",
       "version_major": 2,
       "version_minor": 0
      },
      "text/plain": [
       "Canvas(toolbar=Toolbar(toolitems=[('Home', 'Reset original view', 'home', 'home'), ('Back', 'Back to previous …"
      ]
     },
     "metadata": {},
     "output_type": "display_data"
    }
   ],
   "source": [
    "res_white = [res for res in percentile_of_results if res[0]['p']['noiseType']['type'] == NoiseType.WHITE]\n",
    "res_red = [res for res in percentile_of_results if res[0]['p']['noiseType']['type'] == NoiseType.RED]\n",
    "\n",
    "fig, axs = plt.subplots(5, 2)\n",
    "labels = ['ou1', 'ou2']\n",
    "xlabel = 'lag'\n",
    "ylabel = 'acf'\n",
    "for i in range(0, 5):\n",
    "    plot_with_percentiles(res_white[i], axs[i][0], labels, xlabel, ylabel)\n",
    "    plot_with_percentiles(res_red[i], axs[i][1], labels, xlabel, ylabel)\n",
    "\n",
    "fig.tight_layout()"
   ]
  },
  {
   "cell_type": "markdown",
   "metadata": {},
   "source": [
    "# CCF \n",
    "Ensemble of cross correlation functions for each parameter set driven by a white noise"
   ]
  },
  {
   "cell_type": "code",
   "execution_count": 5,
   "metadata": {},
   "outputs": [],
   "source": [
    "fig_size = plt.rcParams[\"figure.figsize\"]\n",
    "fig_size[0] = 15\n",
    "fig_size[1] = 10\n",
    "plt.rcParams[\"figure.figsize\"] = fig_size\n",
    "white_noise_res = sorted([res for res in results if res['p']['tau1'] == 0.5], key= lambda r: r['p']['e'])\n",
    "percentile_of_results = [[{'median': res['ccf_median'], 'lower_percentile': res['ccf_lower_percentile'],\n",
    "                           'upper_percentile': res['ccf_upper_percentile'], 'p': res['p']}]\n",
    "                         for res in white_noise_res]\n",
    "\n"
   ]
  },
  {
   "cell_type": "code",
   "execution_count": 8,
   "metadata": {},
   "outputs": [
    {
     "data": {
      "application/vnd.jupyter.widget-view+json": {
       "model_id": "472372d2b4b042dc9731777e2634bfb5",
       "version_major": 2,
       "version_minor": 0
      },
      "text/plain": [
       "Canvas(toolbar=Toolbar(toolitems=[('Home', 'Reset original view', 'home', 'home'), ('Back', 'Back to previous …"
      ]
     },
     "metadata": {},
     "output_type": "display_data"
    }
   ],
   "source": [
    "res_white = [res for res in percentile_of_results if res[0]['p']['noiseType']['type'] == NoiseType.WHITE]\n",
    "res_red = [res for res in percentile_of_results if res[0]['p']['noiseType']['type'] == NoiseType.RED]\n",
    "\n",
    "fig, axs = plt.subplots(5, 2, sharey=True)\n",
    "labels = ['ccf']\n",
    "xlabel = 'lag'\n",
    "ylabel = 'ccf'\n",
    "for i in range(0, 5):\n",
    "    plot_with_percentiles(res_white[i], axs[i][0], labels, xlabel, ylabel)\n",
    "    plot_with_percentiles(res_red[i], axs[i][1], labels, xlabel, ylabel)\n",
    "\n",
    "fig.tight_layout()"
   ]
  },
  {
   "cell_type": "code",
   "execution_count": 7,
   "metadata": {},
   "outputs": [
    {
     "ename": "NameError",
     "evalue": "name 'plot_max_e_corr' is not defined",
     "output_type": "error",
     "traceback": [
      "\u001b[0;31m---------------------------------------------------------------------------\u001b[0m",
      "\u001b[0;31mNameError\u001b[0m                                 Traceback (most recent call last)",
      "\u001b[0;32m<ipython-input-7-cb54996db9ca>\u001b[0m in \u001b[0;36m<module>\u001b[0;34m\u001b[0m\n\u001b[0;32m----> 1\u001b[0;31m \u001b[0mplot_max_e_corr\u001b[0m\u001b[0;34m(\u001b[0m\u001b[0mfit_max_e_corr\u001b[0m\u001b[0;34m(\u001b[0m\u001b[0mresults\u001b[0m\u001b[0;34m)\u001b[0m\u001b[0;34m)\u001b[0m\u001b[0;34m\u001b[0m\u001b[0;34m\u001b[0m\u001b[0m\n\u001b[0m",
      "\u001b[0;31mNameError\u001b[0m: name 'plot_max_e_corr' is not defined"
     ]
    }
   ],
   "source": [
    "plot_max_e_corr(fit_max_e_corr(results))"
   ]
  },
  {
   "cell_type": "code",
   "execution_count": null,
   "metadata": {},
   "outputs": [],
   "source": [
    "import analyzation.paramVsTau.paramVsTau\n",
    "from analyzation.paramVsTau.paramVsTau import plot_max_e_corr\n",
    "plt_correlation(results)"
   ]
  },
  {
   "cell_type": "code",
   "execution_count": null,
   "metadata": {},
   "outputs": [],
   "source": [
    "partition = lambda a: [a[i * 3:i * 3 + 3] for i in [0, 1]]\n",
    "plt_time_series(get_different_taus(params),\n",
    "                partition([r['ccf_shifts'] for r in get_different_taus(results)]),\n",
    "                partition([r['ccf'] for r in get_different_taus(results)]),\n",
    "                '',\n",
    "                percentiles_per_run=partition([r['ccf_percentiles'] for r in get_different_taus(results)]),\n",
    "                labels=[[r'$\\tau_2$ = 0.2', r'$\\tau_2$ = 0.5', r'$\\tau_2$ = 0.8'],\n",
    "                        [r'$\\tau_1$ = 0.2', r'$\\tau_1$ = 0.5', r'$\\tau_1$ = 0.8']],\n",
    "                subTitleFn=lambda params,\n",
    "                                  i: f\"fixed $\\\\tau_1$={params[i * 3]['tau1']}\" if i == 0 else f\"fixed $\\\\tau_2$={params[i * 3]['tau2']}\",\n",
    "                xlabel='lag',\n",
    "                ylabel='CCF')"
   ]
  }
 ],
 "metadata": {
  "kernelspec": {
   "display_name": "Python3 (oldenburg/Praktikum/code)",
   "language": "python",
   "name": "internship_jf_code"
  },
  "language_info": {
   "codemirror_mode": {
    "name": "ipython",
    "version": 3
   },
   "file_extension": ".py",
   "mimetype": "text/x-python",
   "name": "python",
   "nbconvert_exporter": "python",
   "pygments_lexer": "ipython3",
   "version": "3.8.5"
  },
  "pycharm": {
   "stem_cell": {
    "cell_type": "raw",
    "metadata": {
     "collapsed": false
    },
    "source": []
   }
  }
 },
 "nbformat": 4,
 "nbformat_minor": 4
}
