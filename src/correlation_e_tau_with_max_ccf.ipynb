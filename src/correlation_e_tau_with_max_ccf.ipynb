{
 "cells": [
  {
   "cell_type": "code",
   "execution_count": null,
   "metadata": {},
   "outputs": [
    {
     "name": "stdout",
     "output_type": "stream",
     "text": [
      "noise2 mean\n0.013545678401871503\nmixed mean\n0.012678345518975788\n"
     ]
    },
    {
     "data": {
      "text/plain": [
       "<Figure size 1200x1200 with 2 Axes>"
      ]
     },
     "execution_count": 0,
     "metadata": {},
     "output_type": "execute_result"
    },
    {
     "data": {
      "text/plain": [
       "<Figure size 1200x1200 with 2 Axes>"
      ]
     },
     "execution_count": 0,
     "metadata": {},
     "output_type": "execute_result"
    },
    {
     "data": {
      "text/plain": [
       "<Figure size 640x480 with 0 Axes>"
      ]
     },
     "execution_count": 0,
     "metadata": {},
     "output_type": "execute_result"
    },
    {
     "data": {
      "text/plain": [
       "<Figure size 1200x1200 with 12 Axes>"
      ]
     },
     "execution_count": 0,
     "metadata": {},
     "output_type": "execute_result"
    },
    {
     "data": {
      "text/plain": [
       "<Figure size 640x480 with 0 Axes>"
      ]
     },
     "execution_count": 0,
     "metadata": {},
     "output_type": "execute_result"
    },
    {
     "data": {
      "text/plain": [
       "<Figure size 1200x1200 with 12 Axes>"
      ]
     },
     "execution_count": 0,
     "metadata": {},
     "output_type": "execute_result"
    },
    {
     "name": "stdout",
     "output_type": "stream",
     "text": [
      "It took 1.793880787998205ms to finish calculations\n"
     ]
    }
   ],
   "source": [
    "from main_multiple_runs import calc_and_plot\n",
    "\n",
    "results = calc_and_plot(show_acf=True, show_samples=True, show_ccf=True)\n"
   ]
  },
  {
   "cell_type": "code",
   "execution_count": 1,
   "metadata": {},
   "outputs": [
    {
     "ename": "NameError",
     "evalue": "name 'results' is not defined",
     "traceback": [
      "\u001b[0;31m---------------------------------------------------------------------------\u001b[0m",
      "\u001b[0;31mNameError\u001b[0m                                 Traceback (most recent call last)",
      "\u001b[0;32m<ipython-input-1-698c3c67dfea>\u001b[0m in \u001b[0;36m<module>\u001b[0;34m\u001b[0m\n\u001b[1;32m     18\u001b[0m \u001b[0;31m# taus = [r['params']['tau1'] for r in results if r['params']['e'] == r['params']['e'][0]]\u001b[0m\u001b[0;34m\u001b[0m\u001b[0;34m\u001b[0m\u001b[0m\n\u001b[1;32m     19\u001b[0m \u001b[0;34m\u001b[0m\u001b[0m\n\u001b[0;32m---> 20\u001b[0;31m \u001b[0;34m[\u001b[0m\u001b[0;34m[\u001b[0m\u001b[0mes_white\u001b[0m\u001b[0;34m,\u001b[0m \u001b[0mmax_correlations_e_white\u001b[0m\u001b[0;34m]\u001b[0m\u001b[0;34m,\u001b[0m \u001b[0;34m[\u001b[0m\u001b[0mes_red\u001b[0m\u001b[0;34m,\u001b[0m \u001b[0mmax_correlations_e_red\u001b[0m\u001b[0;34m]\u001b[0m\u001b[0;34m]\u001b[0m \u001b[0;34m=\u001b[0m \u001b[0mget_param_corr_pairs\u001b[0m\u001b[0;34m(\u001b[0m\u001b[0;34m'e'\u001b[0m\u001b[0;34m,\u001b[0m \u001b[0;34m'tau1'\u001b[0m\u001b[0;34m)\u001b[0m\u001b[0;34m\u001b[0m\u001b[0m\n\u001b[0m\u001b[1;32m     21\u001b[0m \u001b[0;34m[\u001b[0m\u001b[0;34m[\u001b[0m\u001b[0mtaus_white\u001b[0m\u001b[0;34m,\u001b[0m \u001b[0mmax_correlations_tau_white\u001b[0m\u001b[0;34m]\u001b[0m\u001b[0;34m,\u001b[0m \u001b[0;34m[\u001b[0m\u001b[0mtaus_red\u001b[0m\u001b[0;34m,\u001b[0m \u001b[0mmax_correlations_tau_red\u001b[0m\u001b[0;34m]\u001b[0m\u001b[0;34m]\u001b[0m \u001b[0;34m=\u001b[0m \u001b[0mget_param_corr_pairs\u001b[0m\u001b[0;34m(\u001b[0m\u001b[0;34m'tau1'\u001b[0m\u001b[0;34m,\u001b[0m \u001b[0;34m'e'\u001b[0m\u001b[0;34m)\u001b[0m\u001b[0;34m\u001b[0m\u001b[0m\n\u001b[1;32m     22\u001b[0m \u001b[0;34m\u001b[0m\u001b[0m\n",
      "\u001b[0;32m<ipython-input-1-698c3c67dfea>\u001b[0m in \u001b[0;36mget_param_corr_pairs\u001b[0;34m(param, fixedParam)\u001b[0m\n\u001b[1;32m      8\u001b[0m \u001b[0;34m\u001b[0m\u001b[0m\n\u001b[1;32m      9\u001b[0m \u001b[0;32mdef\u001b[0m \u001b[0mget_param_corr_pairs\u001b[0m\u001b[0;34m(\u001b[0m\u001b[0mparam\u001b[0m\u001b[0;34m,\u001b[0m \u001b[0mfixedParam\u001b[0m\u001b[0;34m)\u001b[0m\u001b[0;34m:\u001b[0m\u001b[0;34m\u001b[0m\u001b[0m\n\u001b[0;32m---> 10\u001b[0;31m     \u001b[0mparam_white\u001b[0m \u001b[0;34m=\u001b[0m \u001b[0;34m[\u001b[0m\u001b[0mr\u001b[0m\u001b[0;34m[\u001b[0m\u001b[0;34m'params'\u001b[0m\u001b[0;34m]\u001b[0m\u001b[0;34m[\u001b[0m\u001b[0mparam\u001b[0m\u001b[0;34m]\u001b[0m \u001b[0;32mfor\u001b[0m \u001b[0mr\u001b[0m \u001b[0;32min\u001b[0m \u001b[0mresults\u001b[0m \u001b[0;32mif\u001b[0m \u001b[0mr\u001b[0m\u001b[0;34m[\u001b[0m\u001b[0;34m'params'\u001b[0m\u001b[0;34m]\u001b[0m\u001b[0;34m[\u001b[0m\u001b[0mfixedParam\u001b[0m\u001b[0;34m]\u001b[0m \u001b[0;34m==\u001b[0m \u001b[0mresults\u001b[0m\u001b[0;34m[\u001b[0m\u001b[0;36m0\u001b[0m\u001b[0;34m]\u001b[0m\u001b[0;34m[\u001b[0m\u001b[0;34m'params'\u001b[0m\u001b[0;34m]\u001b[0m\u001b[0;34m[\u001b[0m\u001b[0mfixedParam\u001b[0m\u001b[0;34m]\u001b[0m \u001b[0;32mand\u001b[0m \u001b[0mr\u001b[0m\u001b[0;34m[\u001b[0m\u001b[0;34m'params'\u001b[0m\u001b[0;34m]\u001b[0m\u001b[0;34m[\u001b[0m\u001b[0;34m'noiseType'\u001b[0m\u001b[0;34m]\u001b[0m\u001b[0;34m[\u001b[0m\u001b[0;34m'type'\u001b[0m\u001b[0;34m]\u001b[0m \u001b[0;34m==\u001b[0m \u001b[0mNoiseType\u001b[0m\u001b[0;34m.\u001b[0m\u001b[0mWHITE\u001b[0m\u001b[0;34m]\u001b[0m\u001b[0;34m\u001b[0m\u001b[0m\n\u001b[0m\u001b[1;32m     11\u001b[0m     \u001b[0mparam_red\u001b[0m \u001b[0;34m=\u001b[0m \u001b[0;34m[\u001b[0m\u001b[0mr\u001b[0m\u001b[0;34m[\u001b[0m\u001b[0;34m'params'\u001b[0m\u001b[0;34m]\u001b[0m\u001b[0;34m[\u001b[0m\u001b[0mparam\u001b[0m\u001b[0;34m]\u001b[0m \u001b[0;32mfor\u001b[0m \u001b[0mr\u001b[0m \u001b[0;32min\u001b[0m \u001b[0mresults\u001b[0m \u001b[0;32mif\u001b[0m \u001b[0mr\u001b[0m\u001b[0;34m[\u001b[0m\u001b[0;34m'params'\u001b[0m\u001b[0;34m]\u001b[0m\u001b[0;34m[\u001b[0m\u001b[0mfixedParam\u001b[0m\u001b[0;34m]\u001b[0m \u001b[0;34m==\u001b[0m \u001b[0mresults\u001b[0m\u001b[0;34m[\u001b[0m\u001b[0;36m0\u001b[0m\u001b[0;34m]\u001b[0m\u001b[0;34m[\u001b[0m\u001b[0;34m'params'\u001b[0m\u001b[0;34m]\u001b[0m\u001b[0;34m[\u001b[0m\u001b[0mfixedParam\u001b[0m\u001b[0;34m]\u001b[0m \u001b[0;32mand\u001b[0m \u001b[0mr\u001b[0m\u001b[0;34m[\u001b[0m\u001b[0;34m'params'\u001b[0m\u001b[0;34m]\u001b[0m\u001b[0;34m[\u001b[0m\u001b[0;34m'noiseType'\u001b[0m\u001b[0;34m]\u001b[0m\u001b[0;34m[\u001b[0m\u001b[0;34m'type'\u001b[0m\u001b[0;34m]\u001b[0m \u001b[0;34m==\u001b[0m \u001b[0mNoiseType\u001b[0m\u001b[0;34m.\u001b[0m\u001b[0mRED\u001b[0m\u001b[0;34m]\u001b[0m\u001b[0;34m\u001b[0m\u001b[0m\n\u001b[1;32m     12\u001b[0m \u001b[0;34m\u001b[0m\u001b[0m\n",
      "\u001b[0;31mNameError\u001b[0m: name 'results' is not defined"
     ],
     "output_type": "error"
    }
   ],
   "source": [
    "# ccf analysis\n",
    "import matplotlib.pyplot as plt\n",
    "import numpy as np\n",
    "\n",
    "from noise import NoiseType\n",
    "\n",
    "average_ensemble = lambda e: np.median(e, axis=0)\n",
    "\n",
    "def get_param_corr_pairs(param, fixedParam):\n",
    "    param_white = [r['params'][param] for r in results if r['params'][fixedParam] == results[0]['params'][fixedParam] and r['params']['noiseType']['type'] == NoiseType.WHITE]\n",
    "    param_red = [r['params'][param] for r in results if r['params'][fixedParam] == results[0]['params'][fixedParam] and r['params']['noiseType']['type'] == NoiseType.RED]\n",
    "\n",
    "    max_correlations_param_red = [np.max(r['ccf']) for r in results if r['params'][fixedParam] == results[0]['params'][fixedParam] and r['params']['noiseType']['type'] == NoiseType.WHITE]\n",
    "    max_correlations_param_white = [np.max(r['ccf']) for r in results if r['params'][fixedParam] == results[0]['params'][fixedParam] and r['params']['noiseType']['type'] == NoiseType.RED]\n",
    "    \n",
    "    return [[param_white, max_correlations_param_white], [param_red, max_correlations_param_red]]\n",
    "\n",
    "# taus = [r['params']['tau1'] for r in results if r['params']['e'] == r['params']['e'][0]]\n",
    "\n",
    "[[es_white, max_correlations_e_white], [es_red, max_correlations_e_red]] = get_param_corr_pairs('e', 'tau1')\n",
    "[[taus_white, max_correlations_tau_white], [taus_red, max_correlations_tau_red]] = get_param_corr_pairs('tau1', 'e')\n",
    "\n",
    "fig, axs = plt.subplots(1,2, sharey=True)\n",
    "axs[0].plot(es_white, max_correlations_e_white, 'x')\n",
    "axs[0].plot(es_red, max_correlations_e_red, 'x', color='r')\n",
    "\n",
    "axs[1].plot(taus_white, max_correlations_tau_white, 'x')\n",
    "axs[1].plot(taus_red, max_correlations_tau_red, 'x', color='r')\n",
    "\n",
    "print('correlation of e and max(ccf)')\n",
    "print(np.correlate(es_white,max_correlations_e_white))\n",
    "print('correlation of tau and max(ccf)')\n",
    "print(np.correlate(taus_white,max_correlations_tau_white))\n",
    "# print(np.correlate(taus,max_correlation)/np.sqrt(np.std(taus) * np.std(max_correlation)))\n",
    "# print('correlation of tau and max(ccf)')\n",
    "# print(np.correlate(np.random.rand(50),np.random.rand(50)))"
   ]
  },
  {
   "cell_type": "code",
   "execution_count": 1,
   "metadata": {},
   "outputs": [
    {
     "ename": "NameError",
     "evalue": "name 'results' is not defined",
     "traceback": [
      "\u001b[0;31m---------------------------------------------------------------------------\u001b[0m",
      "\u001b[0;31mNameError\u001b[0m                                 Traceback (most recent call last)",
      "\u001b[0;32m<ipython-input-1-53a66bb8659e>\u001b[0m in \u001b[0;36m<module>\u001b[0;34m\u001b[0m\n\u001b[1;32m      1\u001b[0m \u001b[0;32mimport\u001b[0m \u001b[0mmatplotlib\u001b[0m\u001b[0;34m.\u001b[0m\u001b[0mpyplot\u001b[0m \u001b[0;32mas\u001b[0m \u001b[0mplt\u001b[0m\u001b[0;34m\u001b[0m\u001b[0m\n\u001b[1;32m      2\u001b[0m \u001b[0;32mimport\u001b[0m \u001b[0mnumpy\u001b[0m \u001b[0;32mas\u001b[0m \u001b[0mnp\u001b[0m\u001b[0;34m\u001b[0m\u001b[0m\n\u001b[0;32m----> 3\u001b[0;31m \u001b[0mcurves\u001b[0m \u001b[0;34m=\u001b[0m \u001b[0mnp\u001b[0m\u001b[0;34m.\u001b[0m\u001b[0msqueeze\u001b[0m\u001b[0;34m(\u001b[0m\u001b[0mresults\u001b[0m\u001b[0;34m[\u001b[0m\u001b[0;36m0\u001b[0m\u001b[0;34m]\u001b[0m\u001b[0;34m[\u001b[0m\u001b[0;34m'ccf_percentiles'\u001b[0m\u001b[0;34m]\u001b[0m\u001b[0;34m)\u001b[0m\u001b[0;34m\u001b[0m\u001b[0m\n\u001b[0m\u001b[1;32m      4\u001b[0m \u001b[0mresults\u001b[0m\u001b[0;34m[\u001b[0m\u001b[0;36m0\u001b[0m\u001b[0;34m]\u001b[0m\u001b[0;34m[\u001b[0m\u001b[0;34m'ccf_percentiles'\u001b[0m\u001b[0;34m]\u001b[0m\u001b[0;34m\u001b[0m\u001b[0m\n\u001b[1;32m      5\u001b[0m \u001b[0;34m\u001b[0m\u001b[0m\n",
      "\u001b[0;31mNameError\u001b[0m: name 'results' is not defined"
     ],
     "output_type": "error"
    }
   ],
   "source": [
    "import matplotlib.pyplot as plt\n",
    "import numpy as np\n",
    "curves = np.squeeze(results[0]['ccf_percentiles'])\n",
    "results[0]['ccf_percentiles']\n",
    "\n",
    "fig = plt.figure()\n",
    "plt.fill_between(results[0]['ccf_shifts'], curves[0], curves[1], alpha=0.4, hatch='/')\n",
    "plt.plot(results[0]['ccf_shifts'], results[0]['ccf'])\n",
    "\n",
    "fig = plt.figure()\n",
    "plt.fill_between(results[0]['ccf_shifts'], curves[0], curves[1], alpha=0.4)\n",
    "plt.plot(results[0]['ccf_shifts'], results[0]['ccf'])\n",
    "\n",
    "fig = plt.figure()\n",
    "plt.fill_between(results[0]['ccf_shifts'], curves[0], curves[1], alpha=0.4, hatch='+')\n",
    "plt.plot(results[0]['ccf_shifts'], results[0]['ccf'])\n",
    "\n",
    "fig = plt.figure()\n",
    "plt.fill_between(results[0]['ccf_shifts'], curves[0], curves[1], alpha=0.4, hatch='.')\n",
    "plt.plot(results[0]['ccf_shifts'], results[0]['ccf'])\n",
    "\n",
    "fig = plt.figure()\n",
    "plt.fill_between(results[0]['ccf_shifts'], curves[0], curves[1], alpha=0.4, hatch='|')\n",
    "plt.plot(results[0]['ccf_shifts'], results[0]['ccf'])"
   ]
  },
  {
   "cell_type": "code",
   "execution_count": null,
   "metadata": {},
   "outputs": [],
   "source": []
  }
 ],
 "metadata": {},
 "nbformat": 4,
 "nbformat_minor": 2
}
